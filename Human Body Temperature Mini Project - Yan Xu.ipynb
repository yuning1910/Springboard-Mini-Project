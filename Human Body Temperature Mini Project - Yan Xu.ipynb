{
 "cells": [
  {
   "cell_type": "markdown",
   "metadata": {},
   "source": [
    "# What is the True Normal Human Body Temperature? \n",
    "\n",
    "#### Background\n",
    "\n",
    "The mean normal body temperature was held to be 37$^{\\circ}$C or 98.6$^{\\circ}$F for more than 120 years since it was first conceptualized and reported by Carl Wunderlich in a famous 1868 book. But, is this value statistically correct?"
   ]
  },
  {
   "cell_type": "markdown",
   "metadata": {},
   "source": [
    "<h3>Exercises</h3>\n",
    "\n",
    "<p>In this exercise, you will analyze a dataset of human body temperatures and employ the concepts of hypothesis testing, confidence intervals, and statistical significance.</p>\n",
    "\n",
    "<p>Answer the following questions <b>in this notebook below and submit to your Github account</b>.</p> \n",
    "\n",
    "<ol>\n",
    "<li>  Is the distribution of body temperatures normal? \n",
    "    <ul>\n",
    "    <li> Although this is not a requirement for the Central Limit Theorem to hold (read the introduction on Wikipedia's page about the CLT carefully: https://en.wikipedia.org/wiki/Central_limit_theorem), it gives us some peace of mind that the population may also be normally distributed if we assume that this sample is representative of the population.\n",
    "    <li> Think about the way you're going to check for the normality of the distribution. Graphical methods are usually used first, but there are also other ways: https://en.wikipedia.org/wiki/Normality_test\n",
    "    </ul>\n",
    "<li>  Is the sample size large? Are the observations independent?\n",
    "    <ul>\n",
    "    <li> Remember that this is a condition for the Central Limit Theorem, and hence the statistical tests we are using, to apply.\n",
    "    </ul>\n",
    "<li>  Is the true population mean really 98.6 degrees F?\n",
    "    <ul>\n",
    "    <li> First, try a bootstrap hypothesis test.\n",
    "    <li> Now, let's try frequentist statistical testing. Would you use a one-sample or two-sample test? Why?\n",
    "    <li> In this situation, is it appropriate to use the $t$ or $z$ statistic? \n",
    "    <li> Now try using the other test. How is the result be different? Why?\n",
    "    </ul>\n",
    "<li>  Draw a small sample of size 10 from the data and repeat both frequentist tests. \n",
    "    <ul>\n",
    "    <li> Which one is the correct one to use? \n",
    "    <li> What do you notice? What does this tell you about the difference in application of the $t$ and $z$ statistic?\n",
    "    </ul>\n",
    "<li>  At what temperature should we consider someone's temperature to be \"abnormal\"?\n",
    "    <ul>\n",
    "    <li> As in the previous example, try calculating everything using the boostrap approach, as well as the frequentist approach.\n",
    "    <li> Start by computing the margin of error and confidence interval. When calculating the confidence interval, keep in mind that you should use the appropriate formula for one draw, and not N draws.\n",
    "    </ul>\n",
    "<li>  Is there a significant difference between males and females in normal temperature?\n",
    "    <ul>\n",
    "    <li> What testing approach did you use and why?\n",
    "    <li> Write a story with your conclusion in the context of the original problem.\n",
    "    </ul>\n",
    "</ol>\n",
    "\n",
    "You can include written notes in notebook cells using Markdown: \n",
    "   - In the control panel at the top, choose Cell > Cell Type > Markdown\n",
    "   - Markdown syntax: http://nestacms.com/docs/creating-content/markdown-cheat-sheet\n",
    "\n",
    "#### Resources\n",
    "\n",
    "+ Information and data sources: http://www.amstat.org/publications/jse/datasets/normtemp.txt, http://www.amstat.org/publications/jse/jse_data_archive.htm\n",
    "+ Markdown syntax: http://nestacms.com/docs/creating-content/markdown-cheat-sheet\n",
    "\n",
    "****"
   ]
  },
  {
   "cell_type": "code",
   "execution_count": 16,
   "metadata": {
    "scrolled": true
   },
   "outputs": [
    {
     "name": "stdout",
     "output_type": "stream",
     "text": [
      "   temperature gender  heart_rate\n",
      "0         99.3      F        68.0\n",
      "1         98.4      F        81.0\n",
      "2         97.8      M        73.0\n",
      "3         99.2      F        66.0\n",
      "4         98.0      F        73.0\n",
      "5         99.2      M        83.0\n",
      "6         98.0      M        71.0\n",
      "7         98.8      M        78.0\n",
      "8         98.4      F        84.0\n",
      "9         98.6      F        86.0\n"
     ]
    }
   ],
   "source": [
    "import pandas as pd\n",
    "\n",
    "\n",
    "df = pd.read_csv('data/human_body_temperature.csv')\n",
    "\n",
    "print(df.head(10))"
   ]
  },
  {
   "cell_type": "code",
   "execution_count": 66,
   "metadata": {},
   "outputs": [
    {
     "name": "stdout",
     "output_type": "stream",
     "text": [
      "0.730357778905038\n",
      "98.24923076923075\n"
     ]
    }
   ],
   "source": [
    "print(np.std(df.temperature))\n",
    "print(np.mean(df.temperature))"
   ]
  },
  {
   "cell_type": "code",
   "execution_count": 3,
   "metadata": {},
   "outputs": [
    {
     "data": {
      "image/png": "[encoded data removed]",
      "text/plain": [
       "<Figure size 432x288 with 1 Axes>"
      ]
     },
     "metadata": {},
     "output_type": "display_data"
    }
   ],
   "source": [
    "# 1. Is the distribution of body temperatures normal?\n",
    "\n",
    "#import required modules\n",
    "import matplotlib.pyplot as plt\n",
    "import seaborn as sns\n",
    "import numpy as np\n",
    "\n",
    "# set seaborn settings\n",
    "sns.set()\n",
    "\n",
    "mean_body_temperature = np.mean(df.temperature)  #calculate body temperature mean\n",
    "std_body_temperature = np.std(df.temperature)   # calculate body temperature standard deviation\n",
    "samples_body_temperature = np.random.normal(mean_body_temperature, std_body_temperature, size = 10000) # create a sample nomral distribution with 10000 data points as reference\n",
    "\n",
    "#define a function to calculate the ECDF (Empirical cumulative distribution functions)\n",
    "\n",
    "def ecdf(data):\n",
    "    \"\"\"Compute ECDF for a one-dimensional array of measurements.\"\"\"\n",
    "    # Number of data points: n\n",
    "    n = len(data)\n",
    "\n",
    "    # x-data for the ECDF: x\n",
    "    x = np.sort(data)\n",
    "\n",
    "    # y-data for the ECDF: y\n",
    "    y = np.arange(1, n+1) / n\n",
    "\n",
    "    return x, y\n",
    "\n",
    "#apply ecdf function to the original data set to get pairs of x and y value, x = temperature, y = CDF\n",
    "x, y = ecdf(df.temperature)\n",
    "#apply ecdf function to the created normal distribution data set\n",
    "x_theor, y_theor = ecdf(samples_body_temperature)\n",
    "\n",
    "# plot theortical ECDF graph\n",
    "_ = plt.plot(x_theor, y_theor)\n",
    "# plot ECDF graph from observed data\n",
    "_ = plt.plot(x, y, marker='.', linestyle='none')\n",
    "# label x axis\n",
    "_ = plt.xlabel('Temperature (F)')\n",
    "# label y axis\n",
    "_ = plt.ylabel('CDF')\n",
    "\n",
    "#show the plot\n",
    "plt.show()\n",
    "\n"
   ]
  },
  {
   "cell_type": "markdown",
   "metadata": {},
   "source": [
    "Q1:Is the distribution of body temperatures normal?\n",
    "A1:From the plot of Temperature vs CDF,  the temperature distribution looks like normal distribution as the data follow the normal distribution curve fairly well. "
   ]
  },
  {
   "cell_type": "markdown",
   "metadata": {},
   "source": [
    "Q2: Is the sample size large? Are the observations independent?\n",
    "A2: According to the Central Limit Theorem, CLT will hold generally when the sample size is great than 30. We have 130 samples, that should be large enough to apply CLT. The observations should be independent from each other.  As the temperature of one person provide no information about the occurence of the other people's temperature. "
   ]
  },
  {
   "cell_type": "code",
   "execution_count": 23,
   "metadata": {},
   "outputs": [
    {
     "name": "stdout",
     "output_type": "stream",
     "text": [
      "p value is:  0.00000\n"
     ]
    }
   ],
   "source": [
    "# 3 Is the true population mean really 98.6 degrees F?\n",
    "# First, try a bootstrap hypothesis test.\n",
    "# Assign the popluation mean that we want to verify into a variable\n",
    "temperature_true_mean = 98.6\n",
    "# define a function that generate bootstrap samples\n",
    "def bootstrap_replicate_1d(data, func):\n",
    "    return func(np.random.choice(data, size=len(data)))\n",
    "# define a function that generate bootstrap replicates\n",
    "def draw_bs_reps(data, func, size=1):\n",
    "    \"\"\"Draw bootstrap replicates.\"\"\"\n",
    "\n",
    "    # Initialize array of replicates: bs_replicates\n",
    "    bs_replicates = np.empty(size)\n",
    "\n",
    "    # Generate replicates\n",
    "    for i in range(size):\n",
    "        bs_replicates[i] = bootstrap_replicate_1d(data, func)\n",
    "\n",
    "    return bs_replicates\n",
    "\n",
    "# calculate the bootstrap replicates for this dataset\n",
    "bs_replicates_temperature = draw_bs_reps(df.temperature, np.mean, 10000)\n",
    "# calculate the p-value\n",
    "p_value = format(np.sum(bs_replicates_temperature >= temperature_true_mean) / len(bs_replicates_temperature), '.5f')\n",
    "print ('p value is: ', p_value)"
   ]
  },
  {
   "cell_type": "markdown",
   "metadata": {},
   "source": [
    "A: The Null Hypothesis is : the true mean temperature in human body is 98.6. After doing the bootstrap hypothesis test, we got a p value = 0 which indicated that there is a strong evident against the null hypothesis, we can reject the Null Hypothesis. "
   ]
  },
  {
   "cell_type": "markdown",
   "metadata": {},
   "source": [
    "Q: Now, let's try frequentist statistical testing. Would you use a one-sample or two-sample test? Why?\n",
    "A: One sample test should be used because we are comparing our data mean to a known value (98.6 f)\n"
   ]
  },
  {
   "cell_type": "code",
   "execution_count": 24,
   "metadata": {},
   "outputs": [
    {
     "name": "stdout",
     "output_type": "stream",
     "text": [
      "p = 0.0\n"
     ]
    }
   ],
   "source": [
    "# Calculates p value using 100,000 boostrap replicates\n",
    "bootstrap_replicates = np.empty(100000)\n",
    "\n",
    "size = len(bootstrap_replicates)\n",
    "\n",
    "for i in range(size):\n",
    "    bootstrap_sample = np.random.choice(df.temperature, size=len(df.temperature))\n",
    "    bootstrap_replicates[i] = np.mean(bootstrap_sample)\n",
    "\n",
    "p = np.sum(bootstrap_replicates >= 98.6) / len(bootstrap_replicates)\n",
    "print('p =', p)\n",
    "\n"
   ]
  },
  {
   "cell_type": "code",
   "execution_count": 26,
   "metadata": {},
   "outputs": [
    {
     "data": {
      "text/plain": [
       "Ttest_1sampResult(statistic=-5.4548232923645195, pvalue=2.4106320415561276e-07)"
      ]
     },
     "execution_count": 26,
     "metadata": {},
     "output_type": "execute_result"
    }
   ],
   "source": [
    "# In this situation, is it appropriate to use the  t  or  z  statistic?\n",
    "# import required modules\n",
    "from scipy import stats\n",
    "\n",
    "#perform one-sample t test\n",
    "stats.ttest_1samp(df.temperature, 98.6)"
   ]
  },
  {
   "cell_type": "markdown",
   "metadata": {},
   "source": [
    "The Null Hypothesis is that mean of the temperature of dataset equals to 98.6. The alternative hypothesis is that mean of the temperature of the dataset does not equal to 98.6. p-value of the one-sample is way less than 0.05. We will reject the Null hypothesis. "
   ]
  },
  {
   "cell_type": "code",
   "execution_count": 27,
   "metadata": {},
   "outputs": [
    {
     "name": "stdout",
     "output_type": "stream",
     "text": [
      "Collecting statsmodels\n",
      "  Downloading https://files.pythonhosted.org/packages/77/2b/8ba61399b31f984c263b177c2e2547a34f0d4d972a24a51fc77c376079b0/statsmodels-0.9.0-cp36-cp36m-win_amd64.whl (7.0MB)\n",
      "Installing collected packages: statsmodels\n",
      "Successfully installed statsmodels-0.9.0\n"
     ]
    }
   ],
   "source": [
    "!pip install -U statsmodels"
   ]
  },
  {
   "cell_type": "code",
   "execution_count": 30,
   "metadata": {},
   "outputs": [
    {
     "name": "stdout",
     "output_type": "stream",
     "text": [
      "p-value is: 4.9021570141012155e-08\n",
      "\n"
     ]
    }
   ],
   "source": [
    "# import statsmodels\n",
    "from statsmodels.stats import weightstats as stests\n",
    "testResult=stests.ztest(df.temperature,value=98.6)\n",
    "pValue=testResult[1]\n",
    "print(\"p-value is: \"+str(pValue))\n",
    "print(\"\")\n"
   ]
  },
  {
   "cell_type": "markdown",
   "metadata": {},
   "source": [
    "Since our sample size is 130 which is greater than 30, a z-test is more appropriate. The p-value of z-test is smaller than the p-value of t test. It provided the same conclusion as the t-test that we will reject the Null hypothesis. The p-value is different because they are two different distribution. t-test could be used for smaller sample size dataset. "
   ]
  },
  {
   "cell_type": "code",
   "execution_count": 33,
   "metadata": {},
   "outputs": [
    {
     "name": "stdout",
     "output_type": "stream",
     "text": [
      "p-value for t-test is: 0.840826191532229\n",
      "p-value for z-test is: 0.8362249774202806\n"
     ]
    }
   ],
   "source": [
    "# 4.Draw a small sample of size 10 from the data and repeat both frequentist tests.\n",
    "# Draw a small sample of size 10\n",
    "smaller_sample = np.random.choice(df.temperature, size=10)\n",
    "\n",
    "#perform one-sample t test\n",
    "TTestResult = stats.ttest_1samp(smaller_sample, 98.6)\n",
    "pValue_T=TTestResult[1]\n",
    "print(\"p-value for t-test is: \"+str(pValue_T))\n",
    "\n",
    "#perform one-sample z test\n",
    "testResult=stests.ztest(smaller_sample,value=98.6)\n",
    "pValue_Z=testResult[1]\n",
    "print(\"p-value for z-test is: \"+str(pValue_Z))\n"
   ]
  },
  {
   "cell_type": "markdown",
   "metadata": {},
   "source": [
    "Q: Which one is the correct one to use?\n",
    "A: Since we have a smaller sample size = 10, we should use t-test\n",
    "Q: What do you notice? What does this tell you about the difference in application of the  t  and  z  statistic?\n",
    "A: For smaller size sample (<30), the p-value for both t-test and z-test are very close. there is not significant difference between the test results. Both test can be applied to smaller sample size dataset. For larger size sample (>30), we should use z-test.\n"
   ]
  },
  {
   "cell_type": "code",
   "execution_count": 63,
   "metadata": {},
   "outputs": [
    {
     "name": "stdout",
     "output_type": "stream",
     "text": [
      "The 90% confidence interval is:  [98.14461538 98.35538462]\n"
     ]
    }
   ],
   "source": [
    "#5 At what temperature should we consider someone's temperature to be \"abnormal\"?\n",
    "# bootstrap approach\n",
    "\n",
    "# Calculates p value using 100,000 boostrap replicates\n",
    "bootstrap_replicates = np.empty(100000)\n",
    "\n",
    "# size of the bootstrap samples\n",
    "size = len(bootstrap_replicates)\n",
    "# calculate the mean of bootstrap samples\n",
    "for i in range(size):\n",
    "    bootstrap_sample = np.random.choice(df.temperature, size=len(df.temperature))\n",
    "    bootstrap_replicates[i] = np.mean(bootstrap_sample)\n",
    "# calculate the 95% confidence interval for boostrap samples    \n",
    "conf_int = np.percentile(bootstrap_replicates, [5,95])\n",
    "print('The 90% confidence interval is: ', conf_int)\n"
   ]
  },
  {
   "cell_type": "code",
   "execution_count": 49,
   "metadata": {},
   "outputs": [
    {
     "name": "stdout",
     "output_type": "stream",
     "text": [
      "The 90% confidence interval (frequentist) is :  (98.14269432413487, 98.35576721432663)\n"
     ]
    }
   ],
   "source": [
    "# Frequentist approach\n",
    "frequentist_confi_interval = stats.t.interval(0.90, len(df.temperature)-1, loc=np.mean(df.temperature), scale=stats.sem(df.temperature))\n",
    "print('The 90% confidence interval (frequentist) is : ', frequentist_confi_interval)"
   ]
  },
  {
   "cell_type": "markdown",
   "metadata": {},
   "source": [
    "Q: At what temperature should we consider someone's temperature to be \"abnormal\"?\n",
    "A: We will consider someone's temperature outside the 90% confidence interval to be abnormal. In this case is "
   ]
  },
  {
   "cell_type": "code",
   "execution_count": 61,
   "metadata": {},
   "outputs": [
    {
     "name": "stdout",
     "output_type": "stream",
     "text": [
      "Female count:  65\n",
      "Male count: 65\n",
      "p-value for t-test is: 0.02393188312239561\n",
      "p-value for z-test is: 0.02228736076065755\n"
     ]
    }
   ],
   "source": [
    "# 6 Is there a significant difference between males and females in normal temperature?\n",
    "# prepare data: separate out female and male\n",
    "\n",
    "female_temp = df[df['gender'] == 'F']\n",
    "male_temp = df[df['gender']=='M']\n",
    "female_count = np.count_nonzero(female_temp.temperature)\n",
    "print('Female count: ', female_count)\n",
    "male_count = np.count_nonzero(male_temp.temperature)\n",
    "print('Male count:', male_count)\n",
    "\n",
    "#perform two sample t test \n",
    "TTestResult1 = stats.ttest_ind(female_temp.temperature, male_temp.temperature)\n",
    "pValue_T1=TTestResult1[1]\n",
    "print(\"p-value for t-test is: \"+str(pValue_T1))\n",
    "\n",
    "#perform two-sample z test\n",
    "testResult1=stests.ztest(female_temp.temperature,male_temp.temperature,alternative='two-sided')\n",
    "pValue_Z1=testResult1[1]\n",
    "print(\"p-value for z-test is: \"+str(pValue_Z1))"
   ]
  },
  {
   "cell_type": "markdown",
   "metadata": {},
   "source": [
    "Q: What testing approach did you use and why?\n",
    "A: Since each data set has 65 samples, we have more than 30 samples. The best approach will be using two sample z-test. \n",
    "Q: Write a story with your conclusion in the context of the original problem.\n",
    "A: Our Null Hypothesis is: there is no significant difference between male and female body temperature. Our Alternative Hypothesis is: there is significant difference between male and female body temperature. As our p-value for z-test is <0.05, we will reject the Null Hypothesis and accept the alternative hypothesis. Our data supported the conclusion that there is noticable difference between female and male body temperature. "
   ]
  }
 ],
 "metadata": {
  "kernelspec": {
   "display_name": "Python 3",
   "language": "python",
   "name": "python3"
  },
  "language_info": {
   "codemirror_mode": {
    "name": "ipython",
    "version": 3
   },
   "file_extension": ".py",
   "mimetype": "text/x-python",
   "name": "python",
   "nbconvert_exporter": "python",
   "pygments_lexer": "ipython3",
   "version": "3.6.6"
  }
 },
 "nbformat": 4,
 "nbformat_minor": 1
}
